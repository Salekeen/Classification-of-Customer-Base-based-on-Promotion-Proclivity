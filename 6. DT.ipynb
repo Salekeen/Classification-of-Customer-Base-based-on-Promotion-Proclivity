{
 "cells": [
  {
   "cell_type": "code",
   "execution_count": 17,
   "metadata": {},
   "outputs": [],
   "source": [
    "# Lets import some dependencies first\n",
    "import warnings\n",
    "warnings.filterwarnings(\"ignore\")\n",
    "\n",
    "\n",
    "import numpy as np\n",
    "import pandas as pd\n",
    "import seaborn as sns\n",
    "\n",
    "from matplotlib import pyplot as plt\n",
    "%config InlineBackend.figure_format = 'retina'\n",
    "plt.style.use('ggplot')\n",
    "\n",
    "from sklearn.tree import DecisionTreeClassifier\n",
    "\n",
    "from sklearn.model_selection import StratifiedKFold,train_test_split\n",
    "from sklearn.model_selection import GridSearchCV,cross_val_score\n",
    "\n",
    "pd.set_option(\"display.precision\",2)\n",
    "pd.set_option(\"display.max_columns\",None)\n",
    "\n",
    "from sklearn.metrics import roc_auc_score\n",
    "import pickle"
   ]
  },
  {
   "cell_type": "code",
   "execution_count": 18,
   "metadata": {},
   "outputs": [],
   "source": [
    "# loading the dataset\n",
    "df = pd.read_pickle('./pickled/Train_set_scaled')"
   ]
  },
  {
   "cell_type": "code",
   "execution_count": 19,
   "metadata": {},
   "outputs": [
    {
     "data": {
      "text/html": [
       "<div>\n",
       "<style scoped>\n",
       "    .dataframe tbody tr th:only-of-type {\n",
       "        vertical-align: middle;\n",
       "    }\n",
       "\n",
       "    .dataframe tbody tr th {\n",
       "        vertical-align: top;\n",
       "    }\n",
       "\n",
       "    .dataframe thead th {\n",
       "        text-align: right;\n",
       "    }\n",
       "</style>\n",
       "<table border=\"1\" class=\"dataframe\">\n",
       "  <thead>\n",
       "    <tr style=\"text-align: right;\">\n",
       "      <th></th>\n",
       "      <th>index</th>\n",
       "      <th>ID</th>\n",
       "      <th>AcceptedCmp3</th>\n",
       "      <th>AcceptedCmp4</th>\n",
       "      <th>AcceptedCmp5</th>\n",
       "      <th>AcceptedCmp1</th>\n",
       "      <th>AcceptedCmp2</th>\n",
       "      <th>Complain</th>\n",
       "      <th>Response</th>\n",
       "      <th>Marital Status_Divorced</th>\n",
       "      <th>Marital Status_Married</th>\n",
       "      <th>Marital Status_Single</th>\n",
       "      <th>Marital Status_Together</th>\n",
       "      <th>Marital Status_Widow</th>\n",
       "      <th>Year_Birth</th>\n",
       "      <th>Education</th>\n",
       "      <th>Income</th>\n",
       "      <th>Kidhome</th>\n",
       "      <th>Teenhome</th>\n",
       "      <th>Dt_Customer</th>\n",
       "      <th>Recency</th>\n",
       "      <th>MntWines</th>\n",
       "      <th>MntFruits</th>\n",
       "      <th>MntMeatProducts</th>\n",
       "      <th>MntFishProducts</th>\n",
       "      <th>MntSweetProducts</th>\n",
       "      <th>MntGoldProds</th>\n",
       "      <th>NumDealsPurchases</th>\n",
       "      <th>NumWebPurchases</th>\n",
       "      <th>NumCatalogPurchases</th>\n",
       "      <th>NumStorePurchases</th>\n",
       "      <th>NumWebVisitsMonth</th>\n",
       "      <th>Z_CostContact</th>\n",
       "      <th>Z_Revenue</th>\n",
       "    </tr>\n",
       "  </thead>\n",
       "  <tbody>\n",
       "    <tr>\n",
       "      <th>0</th>\n",
       "      <td>1998</td>\n",
       "      <td>5370</td>\n",
       "      <td>1</td>\n",
       "      <td>0</td>\n",
       "      <td>0</td>\n",
       "      <td>0</td>\n",
       "      <td>0</td>\n",
       "      <td>0</td>\n",
       "      <td>0</td>\n",
       "      <td>0.0</td>\n",
       "      <td>1.0</td>\n",
       "      <td>0.0</td>\n",
       "      <td>0.0</td>\n",
       "      <td>0.0</td>\n",
       "      <td>0.34</td>\n",
       "      <td>1.61</td>\n",
       "      <td>-0.88</td>\n",
       "      <td>1.02</td>\n",
       "      <td>-0.93</td>\n",
       "      <td>0.75</td>\n",
       "      <td>-0.38</td>\n",
       "      <td>-0.19</td>\n",
       "      <td>-0.59</td>\n",
       "      <td>-0.10</td>\n",
       "      <td>-0.69</td>\n",
       "      <td>-0.49</td>\n",
       "      <td>-0.41</td>\n",
       "      <td>0.88</td>\n",
       "      <td>1.07</td>\n",
       "      <td>-0.57</td>\n",
       "      <td>0.06</td>\n",
       "      <td>1.11</td>\n",
       "      <td>0.0</td>\n",
       "      <td>0.0</td>\n",
       "    </tr>\n",
       "    <tr>\n",
       "      <th>1</th>\n",
       "      <td>814</td>\n",
       "      <td>6303</td>\n",
       "      <td>0</td>\n",
       "      <td>0</td>\n",
       "      <td>0</td>\n",
       "      <td>0</td>\n",
       "      <td>0</td>\n",
       "      <td>0</td>\n",
       "      <td>0</td>\n",
       "      <td>0.0</td>\n",
       "      <td>0.0</td>\n",
       "      <td>0.0</td>\n",
       "      <td>1.0</td>\n",
       "      <td>0.0</td>\n",
       "      <td>1.46</td>\n",
       "      <td>1.61</td>\n",
       "      <td>1.87</td>\n",
       "      <td>-0.82</td>\n",
       "      <td>-0.93</td>\n",
       "      <td>-0.57</td>\n",
       "      <td>0.79</td>\n",
       "      <td>0.33</td>\n",
       "      <td>1.18</td>\n",
       "      <td>2.61</td>\n",
       "      <td>0.71</td>\n",
       "      <td>3.27</td>\n",
       "      <td>-0.27</td>\n",
       "      <td>-1.22</td>\n",
       "      <td>0.34</td>\n",
       "      <td>0.80</td>\n",
       "      <td>1.92</td>\n",
       "      <td>-1.78</td>\n",
       "      <td>0.0</td>\n",
       "      <td>0.0</td>\n",
       "    </tr>\n",
       "    <tr>\n",
       "      <th>2</th>\n",
       "      <td>1513</td>\n",
       "      <td>9264</td>\n",
       "      <td>0</td>\n",
       "      <td>0</td>\n",
       "      <td>0</td>\n",
       "      <td>0</td>\n",
       "      <td>0</td>\n",
       "      <td>0</td>\n",
       "      <td>0</td>\n",
       "      <td>0.0</td>\n",
       "      <td>1.0</td>\n",
       "      <td>0.0</td>\n",
       "      <td>0.0</td>\n",
       "      <td>0.0</td>\n",
       "      <td>1.46</td>\n",
       "      <td>-0.78</td>\n",
       "      <td>1.29</td>\n",
       "      <td>-0.82</td>\n",
       "      <td>-0.93</td>\n",
       "      <td>-1.23</td>\n",
       "      <td>-1.66</td>\n",
       "      <td>0.36</td>\n",
       "      <td>0.40</td>\n",
       "      <td>2.43</td>\n",
       "      <td>0.66</td>\n",
       "      <td>4.15</td>\n",
       "      <td>2.92</td>\n",
       "      <td>-0.70</td>\n",
       "      <td>-0.03</td>\n",
       "      <td>1.82</td>\n",
       "      <td>0.99</td>\n",
       "      <td>-1.37</td>\n",
       "      <td>0.0</td>\n",
       "      <td>0.0</td>\n",
       "    </tr>\n",
       "    <tr>\n",
       "      <th>3</th>\n",
       "      <td>1381</td>\n",
       "      <td>7514</td>\n",
       "      <td>0</td>\n",
       "      <td>0</td>\n",
       "      <td>0</td>\n",
       "      <td>0</td>\n",
       "      <td>0</td>\n",
       "      <td>0</td>\n",
       "      <td>0</td>\n",
       "      <td>0.0</td>\n",
       "      <td>0.0</td>\n",
       "      <td>0.0</td>\n",
       "      <td>1.0</td>\n",
       "      <td>0.0</td>\n",
       "      <td>-1.11</td>\n",
       "      <td>0.81</td>\n",
       "      <td>0.12</td>\n",
       "      <td>1.02</td>\n",
       "      <td>0.92</td>\n",
       "      <td>0.54</td>\n",
       "      <td>0.86</td>\n",
       "      <td>-0.66</td>\n",
       "      <td>-0.41</td>\n",
       "      <td>-0.58</td>\n",
       "      <td>-0.48</td>\n",
       "      <td>-0.41</td>\n",
       "      <td>-0.31</td>\n",
       "      <td>0.88</td>\n",
       "      <td>-0.39</td>\n",
       "      <td>-0.57</td>\n",
       "      <td>-0.55</td>\n",
       "      <td>0.28</td>\n",
       "      <td>0.0</td>\n",
       "      <td>0.0</td>\n",
       "    </tr>\n",
       "    <tr>\n",
       "      <th>4</th>\n",
       "      <td>919</td>\n",
       "      <td>4637</td>\n",
       "      <td>0</td>\n",
       "      <td>0</td>\n",
       "      <td>0</td>\n",
       "      <td>1</td>\n",
       "      <td>0</td>\n",
       "      <td>0</td>\n",
       "      <td>0</td>\n",
       "      <td>0.0</td>\n",
       "      <td>0.0</td>\n",
       "      <td>1.0</td>\n",
       "      <td>0.0</td>\n",
       "      <td>0.0</td>\n",
       "      <td>-1.29</td>\n",
       "      <td>1.61</td>\n",
       "      <td>1.07</td>\n",
       "      <td>-0.82</td>\n",
       "      <td>-0.93</td>\n",
       "      <td>0.23</td>\n",
       "      <td>0.83</td>\n",
       "      <td>1.98</td>\n",
       "      <td>0.95</td>\n",
       "      <td>1.34</td>\n",
       "      <td>2.00</td>\n",
       "      <td>-0.66</td>\n",
       "      <td>-0.54</td>\n",
       "      <td>-0.70</td>\n",
       "      <td>0.70</td>\n",
       "      <td>2.16</td>\n",
       "      <td>0.99</td>\n",
       "      <td>-0.96</td>\n",
       "      <td>0.0</td>\n",
       "      <td>0.0</td>\n",
       "    </tr>\n",
       "    <tr>\n",
       "      <th>5</th>\n",
       "      <td>902</td>\n",
       "      <td>6445</td>\n",
       "      <td>0</td>\n",
       "      <td>0</td>\n",
       "      <td>0</td>\n",
       "      <td>0</td>\n",
       "      <td>0</td>\n",
       "      <td>0</td>\n",
       "      <td>0</td>\n",
       "      <td>0.0</td>\n",
       "      <td>0.0</td>\n",
       "      <td>0.0</td>\n",
       "      <td>1.0</td>\n",
       "      <td>0.0</td>\n",
       "      <td>-0.17</td>\n",
       "      <td>-0.78</td>\n",
       "      <td>0.70</td>\n",
       "      <td>-0.82</td>\n",
       "      <td>-0.93</td>\n",
       "      <td>-0.01</td>\n",
       "      <td>0.83</td>\n",
       "      <td>-0.18</td>\n",
       "      <td>1.89</td>\n",
       "      <td>1.08</td>\n",
       "      <td>-0.15</td>\n",
       "      <td>0.32</td>\n",
       "      <td>-0.08</td>\n",
       "      <td>-0.70</td>\n",
       "      <td>-0.03</td>\n",
       "      <td>0.80</td>\n",
       "      <td>0.06</td>\n",
       "      <td>-1.37</td>\n",
       "      <td>0.0</td>\n",
       "      <td>0.0</td>\n",
       "    </tr>\n",
       "    <tr>\n",
       "      <th>6</th>\n",
       "      <td>1205</td>\n",
       "      <td>1118</td>\n",
       "      <td>1</td>\n",
       "      <td>0</td>\n",
       "      <td>0</td>\n",
       "      <td>0</td>\n",
       "      <td>0</td>\n",
       "      <td>0</td>\n",
       "      <td>0</td>\n",
       "      <td>0.0</td>\n",
       "      <td>1.0</td>\n",
       "      <td>0.0</td>\n",
       "      <td>0.0</td>\n",
       "      <td>0.0</td>\n",
       "      <td>-1.11</td>\n",
       "      <td>0.02</td>\n",
       "      <td>-0.03</td>\n",
       "      <td>-0.82</td>\n",
       "      <td>0.92</td>\n",
       "      <td>0.60</td>\n",
       "      <td>1.31</td>\n",
       "      <td>0.73</td>\n",
       "      <td>-0.33</td>\n",
       "      <td>-0.36</td>\n",
       "      <td>-0.54</td>\n",
       "      <td>-0.51</td>\n",
       "      <td>-0.29</td>\n",
       "      <td>0.35</td>\n",
       "      <td>2.16</td>\n",
       "      <td>0.46</td>\n",
       "      <td>-0.24</td>\n",
       "      <td>1.11</td>\n",
       "      <td>0.0</td>\n",
       "      <td>0.0</td>\n",
       "    </tr>\n",
       "    <tr>\n",
       "      <th>7</th>\n",
       "      <td>173</td>\n",
       "      <td>1880</td>\n",
       "      <td>0</td>\n",
       "      <td>0</td>\n",
       "      <td>0</td>\n",
       "      <td>0</td>\n",
       "      <td>0</td>\n",
       "      <td>0</td>\n",
       "      <td>0</td>\n",
       "      <td>0.0</td>\n",
       "      <td>0.0</td>\n",
       "      <td>0.0</td>\n",
       "      <td>1.0</td>\n",
       "      <td>0.0</td>\n",
       "      <td>-0.86</td>\n",
       "      <td>1.61</td>\n",
       "      <td>0.09</td>\n",
       "      <td>1.02</td>\n",
       "      <td>0.92</td>\n",
       "      <td>-0.86</td>\n",
       "      <td>-1.11</td>\n",
       "      <td>-0.67</td>\n",
       "      <td>-0.66</td>\n",
       "      <td>-0.71</td>\n",
       "      <td>-0.69</td>\n",
       "      <td>-0.66</td>\n",
       "      <td>-0.73</td>\n",
       "      <td>-0.17</td>\n",
       "      <td>-0.76</td>\n",
       "      <td>-0.57</td>\n",
       "      <td>-0.86</td>\n",
       "      <td>-0.13</td>\n",
       "      <td>0.0</td>\n",
       "      <td>0.0</td>\n",
       "    </tr>\n",
       "    <tr>\n",
       "      <th>8</th>\n",
       "      <td>1557</td>\n",
       "      <td>4037</td>\n",
       "      <td>0</td>\n",
       "      <td>0</td>\n",
       "      <td>0</td>\n",
       "      <td>0</td>\n",
       "      <td>0</td>\n",
       "      <td>0</td>\n",
       "      <td>0</td>\n",
       "      <td>1.0</td>\n",
       "      <td>0.0</td>\n",
       "      <td>0.0</td>\n",
       "      <td>0.0</td>\n",
       "      <td>0.0</td>\n",
       "      <td>0.60</td>\n",
       "      <td>-0.78</td>\n",
       "      <td>-0.92</td>\n",
       "      <td>1.02</td>\n",
       "      <td>-0.93</td>\n",
       "      <td>0.12</td>\n",
       "      <td>0.97</td>\n",
       "      <td>-0.90</td>\n",
       "      <td>-0.64</td>\n",
       "      <td>-0.72</td>\n",
       "      <td>-0.54</td>\n",
       "      <td>-0.66</td>\n",
       "      <td>-0.75</td>\n",
       "      <td>-0.70</td>\n",
       "      <td>-1.12</td>\n",
       "      <td>-0.91</td>\n",
       "      <td>-1.17</td>\n",
       "      <td>0.69</td>\n",
       "      <td>0.0</td>\n",
       "      <td>0.0</td>\n",
       "    </tr>\n",
       "    <tr>\n",
       "      <th>9</th>\n",
       "      <td>1216</td>\n",
       "      <td>232</td>\n",
       "      <td>0</td>\n",
       "      <td>0</td>\n",
       "      <td>0</td>\n",
       "      <td>0</td>\n",
       "      <td>0</td>\n",
       "      <td>0</td>\n",
       "      <td>0</td>\n",
       "      <td>0.0</td>\n",
       "      <td>0.0</td>\n",
       "      <td>1.0</td>\n",
       "      <td>0.0</td>\n",
       "      <td>0.0</td>\n",
       "      <td>-0.34</td>\n",
       "      <td>-0.78</td>\n",
       "      <td>0.46</td>\n",
       "      <td>-0.82</td>\n",
       "      <td>0.92</td>\n",
       "      <td>-0.02</td>\n",
       "      <td>-1.42</td>\n",
       "      <td>-0.07</td>\n",
       "      <td>1.44</td>\n",
       "      <td>-0.34</td>\n",
       "      <td>-0.10</td>\n",
       "      <td>-0.32</td>\n",
       "      <td>-0.20</td>\n",
       "      <td>-0.70</td>\n",
       "      <td>-0.03</td>\n",
       "      <td>-0.22</td>\n",
       "      <td>1.30</td>\n",
       "      <td>-0.96</td>\n",
       "      <td>0.0</td>\n",
       "      <td>0.0</td>\n",
       "    </tr>\n",
       "  </tbody>\n",
       "</table>\n",
       "</div>"
      ],
      "text/plain": [
       "   index    ID  AcceptedCmp3  AcceptedCmp4  AcceptedCmp5  AcceptedCmp1  \\\n",
       "0   1998  5370             1             0             0             0   \n",
       "1    814  6303             0             0             0             0   \n",
       "2   1513  9264             0             0             0             0   \n",
       "3   1381  7514             0             0             0             0   \n",
       "4    919  4637             0             0             0             1   \n",
       "5    902  6445             0             0             0             0   \n",
       "6   1205  1118             1             0             0             0   \n",
       "7    173  1880             0             0             0             0   \n",
       "8   1557  4037             0             0             0             0   \n",
       "9   1216   232             0             0             0             0   \n",
       "\n",
       "   AcceptedCmp2  Complain  Response  Marital Status_Divorced  \\\n",
       "0             0         0         0                      0.0   \n",
       "1             0         0         0                      0.0   \n",
       "2             0         0         0                      0.0   \n",
       "3             0         0         0                      0.0   \n",
       "4             0         0         0                      0.0   \n",
       "5             0         0         0                      0.0   \n",
       "6             0         0         0                      0.0   \n",
       "7             0         0         0                      0.0   \n",
       "8             0         0         0                      1.0   \n",
       "9             0         0         0                      0.0   \n",
       "\n",
       "   Marital Status_Married  Marital Status_Single  Marital Status_Together  \\\n",
       "0                     1.0                    0.0                      0.0   \n",
       "1                     0.0                    0.0                      1.0   \n",
       "2                     1.0                    0.0                      0.0   \n",
       "3                     0.0                    0.0                      1.0   \n",
       "4                     0.0                    1.0                      0.0   \n",
       "5                     0.0                    0.0                      1.0   \n",
       "6                     1.0                    0.0                      0.0   \n",
       "7                     0.0                    0.0                      1.0   \n",
       "8                     0.0                    0.0                      0.0   \n",
       "9                     0.0                    1.0                      0.0   \n",
       "\n",
       "   Marital Status_Widow  Year_Birth  Education  Income  Kidhome  Teenhome  \\\n",
       "0                   0.0        0.34       1.61   -0.88     1.02     -0.93   \n",
       "1                   0.0        1.46       1.61    1.87    -0.82     -0.93   \n",
       "2                   0.0        1.46      -0.78    1.29    -0.82     -0.93   \n",
       "3                   0.0       -1.11       0.81    0.12     1.02      0.92   \n",
       "4                   0.0       -1.29       1.61    1.07    -0.82     -0.93   \n",
       "5                   0.0       -0.17      -0.78    0.70    -0.82     -0.93   \n",
       "6                   0.0       -1.11       0.02   -0.03    -0.82      0.92   \n",
       "7                   0.0       -0.86       1.61    0.09     1.02      0.92   \n",
       "8                   0.0        0.60      -0.78   -0.92     1.02     -0.93   \n",
       "9                   0.0       -0.34      -0.78    0.46    -0.82      0.92   \n",
       "\n",
       "   Dt_Customer  Recency  MntWines  MntFruits  MntMeatProducts  \\\n",
       "0         0.75    -0.38     -0.19      -0.59            -0.10   \n",
       "1        -0.57     0.79      0.33       1.18             2.61   \n",
       "2        -1.23    -1.66      0.36       0.40             2.43   \n",
       "3         0.54     0.86     -0.66      -0.41            -0.58   \n",
       "4         0.23     0.83      1.98       0.95             1.34   \n",
       "5        -0.01     0.83     -0.18       1.89             1.08   \n",
       "6         0.60     1.31      0.73      -0.33            -0.36   \n",
       "7        -0.86    -1.11     -0.67      -0.66            -0.71   \n",
       "8         0.12     0.97     -0.90      -0.64            -0.72   \n",
       "9        -0.02    -1.42     -0.07       1.44            -0.34   \n",
       "\n",
       "   MntFishProducts  MntSweetProducts  MntGoldProds  NumDealsPurchases  \\\n",
       "0            -0.69             -0.49         -0.41               0.88   \n",
       "1             0.71              3.27         -0.27              -1.22   \n",
       "2             0.66              4.15          2.92              -0.70   \n",
       "3            -0.48             -0.41         -0.31               0.88   \n",
       "4             2.00             -0.66         -0.54              -0.70   \n",
       "5            -0.15              0.32         -0.08              -0.70   \n",
       "6            -0.54             -0.51         -0.29               0.35   \n",
       "7            -0.69             -0.66         -0.73              -0.17   \n",
       "8            -0.54             -0.66         -0.75              -0.70   \n",
       "9            -0.10             -0.32         -0.20              -0.70   \n",
       "\n",
       "   NumWebPurchases  NumCatalogPurchases  NumStorePurchases  NumWebVisitsMonth  \\\n",
       "0             1.07                -0.57               0.06               1.11   \n",
       "1             0.34                 0.80               1.92              -1.78   \n",
       "2            -0.03                 1.82               0.99              -1.37   \n",
       "3            -0.39                -0.57              -0.55               0.28   \n",
       "4             0.70                 2.16               0.99              -0.96   \n",
       "5            -0.03                 0.80               0.06              -1.37   \n",
       "6             2.16                 0.46              -0.24               1.11   \n",
       "7            -0.76                -0.57              -0.86              -0.13   \n",
       "8            -1.12                -0.91              -1.17               0.69   \n",
       "9            -0.03                -0.22               1.30              -0.96   \n",
       "\n",
       "   Z_CostContact  Z_Revenue  \n",
       "0            0.0        0.0  \n",
       "1            0.0        0.0  \n",
       "2            0.0        0.0  \n",
       "3            0.0        0.0  \n",
       "4            0.0        0.0  \n",
       "5            0.0        0.0  \n",
       "6            0.0        0.0  \n",
       "7            0.0        0.0  \n",
       "8            0.0        0.0  \n",
       "9            0.0        0.0  "
      ]
     },
     "execution_count": 19,
     "metadata": {},
     "output_type": "execute_result"
    }
   ],
   "source": [
    "df.head(10)"
   ]
  },
  {
   "cell_type": "markdown",
   "metadata": {},
   "source": [
    "Lets seperate Train Test(Validation) Set"
   ]
  },
  {
   "cell_type": "code",
   "execution_count": 20,
   "metadata": {},
   "outputs": [],
   "source": [
    "df['Target'] = df['AcceptedCmp1']+df['AcceptedCmp2']+df['AcceptedCmp3'] + \\\n",
    "    df['AcceptedCmp4']+df['AcceptedCmp5']+df['Response']"
   ]
  },
  {
   "cell_type": "code",
   "execution_count": 21,
   "metadata": {},
   "outputs": [],
   "source": [
    "df['Target'].replace(\n",
    "    df[df['Target']>0]['Target'].values.tolist(),\n",
    "    1,\n",
    "    inplace = True\n",
    ")"
   ]
  },
  {
   "cell_type": "code",
   "execution_count": 22,
   "metadata": {},
   "outputs": [
    {
     "data": {
      "text/plain": [
       "0    1302\n",
       "1     468\n",
       "Name: Target, dtype: int64"
      ]
     },
     "execution_count": 22,
     "metadata": {},
     "output_type": "execute_result"
    }
   ],
   "source": [
    "df.Target.value_counts()"
   ]
  },
  {
   "cell_type": "markdown",
   "metadata": {},
   "source": [
    "Lets define our X and y"
   ]
  },
  {
   "cell_type": "code",
   "execution_count": 23,
   "metadata": {},
   "outputs": [
    {
     "data": {
      "text/plain": [
       "Index(['index', 'ID', 'AcceptedCmp3', 'AcceptedCmp4', 'AcceptedCmp5',\n",
       "       'AcceptedCmp1', 'AcceptedCmp2', 'Complain', 'Response',\n",
       "       'Marital Status_Divorced', 'Marital Status_Married',\n",
       "       'Marital Status_Single', 'Marital Status_Together',\n",
       "       'Marital Status_Widow', 'Year_Birth', 'Education', 'Income', 'Kidhome',\n",
       "       'Teenhome', 'Dt_Customer', 'Recency', 'MntWines', 'MntFruits',\n",
       "       'MntMeatProducts', 'MntFishProducts', 'MntSweetProducts',\n",
       "       'MntGoldProds', 'NumDealsPurchases', 'NumWebPurchases',\n",
       "       'NumCatalogPurchases', 'NumStorePurchases', 'NumWebVisitsMonth',\n",
       "       'Z_CostContact', 'Z_Revenue', 'Target'],\n",
       "      dtype='object')"
      ]
     },
     "execution_count": 23,
     "metadata": {},
     "output_type": "execute_result"
    }
   ],
   "source": [
    "df.columns"
   ]
  },
  {
   "cell_type": "code",
   "execution_count": 24,
   "metadata": {},
   "outputs": [],
   "source": [
    "X = df.drop(columns=['index', 'ID', 'AcceptedCmp1', 'AcceptedCmp2',\n",
    "                     'AcceptedCmp3', 'AcceptedCmp4', 'AcceptedCmp5', 'Response', 'Target'])\n",
    "y = df['Target']"
   ]
  },
  {
   "cell_type": "code",
   "execution_count": 25,
   "metadata": {},
   "outputs": [
    {
     "data": {
      "text/plain": [
       "((1770, 26), (1770,))"
      ]
     },
     "execution_count": 25,
     "metadata": {},
     "output_type": "execute_result"
    }
   ],
   "source": [
    "X.shape,y.shape"
   ]
  },
  {
   "cell_type": "markdown",
   "metadata": {},
   "source": [
    "Lets make Train,Test(Validation) Split"
   ]
  },
  {
   "cell_type": "code",
   "execution_count": 26,
   "metadata": {},
   "outputs": [],
   "source": [
    "X_train, X_test, y_train, y_valid = train_test_split(\n",
    "    X, y, test_size=0.25, random_state=42\n",
    ")"
   ]
  },
  {
   "cell_type": "code",
   "execution_count": 27,
   "metadata": {},
   "outputs": [
    {
     "data": {
      "text/plain": [
       "((1327, 26), (443,))"
      ]
     },
     "execution_count": 27,
     "metadata": {},
     "output_type": "execute_result"
    }
   ],
   "source": [
    "X_train.shape , y_valid.shape"
   ]
  },
  {
   "cell_type": "markdown",
   "metadata": {},
   "source": [
    "I'm gonna use SKF to preserve the class distribution while cross validation"
   ]
  },
  {
   "cell_type": "code",
   "execution_count": 28,
   "metadata": {},
   "outputs": [],
   "source": [
    "skf = StratifiedKFold(n_splits=5,shuffle=True,random_state=42)"
   ]
  },
  {
   "cell_type": "markdown",
   "metadata": {},
   "source": [
    "Initialize the Decision Tree"
   ]
  },
  {
   "cell_type": "code",
   "execution_count": 29,
   "metadata": {},
   "outputs": [],
   "source": [
    "Dtree = DecisionTreeClassifier(random_state=42)"
   ]
  },
  {
   "cell_type": "code",
   "execution_count": 30,
   "metadata": {},
   "outputs": [
    {
     "data": {
      "text/html": [
       "<style>#sk-container-id-2 {color: black;background-color: white;}#sk-container-id-2 pre{padding: 0;}#sk-container-id-2 div.sk-toggleable {background-color: white;}#sk-container-id-2 label.sk-toggleable__label {cursor: pointer;display: block;width: 100%;margin-bottom: 0;padding: 0.3em;box-sizing: border-box;text-align: center;}#sk-container-id-2 label.sk-toggleable__label-arrow:before {content: \"▸\";float: left;margin-right: 0.25em;color: #696969;}#sk-container-id-2 label.sk-toggleable__label-arrow:hover:before {color: black;}#sk-container-id-2 div.sk-estimator:hover label.sk-toggleable__label-arrow:before {color: black;}#sk-container-id-2 div.sk-toggleable__content {max-height: 0;max-width: 0;overflow: hidden;text-align: left;background-color: #f0f8ff;}#sk-container-id-2 div.sk-toggleable__content pre {margin: 0.2em;color: black;border-radius: 0.25em;background-color: #f0f8ff;}#sk-container-id-2 input.sk-toggleable__control:checked~div.sk-toggleable__content {max-height: 200px;max-width: 100%;overflow: auto;}#sk-container-id-2 input.sk-toggleable__control:checked~label.sk-toggleable__label-arrow:before {content: \"▾\";}#sk-container-id-2 div.sk-estimator input.sk-toggleable__control:checked~label.sk-toggleable__label {background-color: #d4ebff;}#sk-container-id-2 div.sk-label input.sk-toggleable__control:checked~label.sk-toggleable__label {background-color: #d4ebff;}#sk-container-id-2 input.sk-hidden--visually {border: 0;clip: rect(1px 1px 1px 1px);clip: rect(1px, 1px, 1px, 1px);height: 1px;margin: -1px;overflow: hidden;padding: 0;position: absolute;width: 1px;}#sk-container-id-2 div.sk-estimator {font-family: monospace;background-color: #f0f8ff;border: 1px dotted black;border-radius: 0.25em;box-sizing: border-box;margin-bottom: 0.5em;}#sk-container-id-2 div.sk-estimator:hover {background-color: #d4ebff;}#sk-container-id-2 div.sk-parallel-item::after {content: \"\";width: 100%;border-bottom: 1px solid gray;flex-grow: 1;}#sk-container-id-2 div.sk-label:hover label.sk-toggleable__label {background-color: #d4ebff;}#sk-container-id-2 div.sk-serial::before {content: \"\";position: absolute;border-left: 1px solid gray;box-sizing: border-box;top: 0;bottom: 0;left: 50%;z-index: 0;}#sk-container-id-2 div.sk-serial {display: flex;flex-direction: column;align-items: center;background-color: white;padding-right: 0.2em;padding-left: 0.2em;position: relative;}#sk-container-id-2 div.sk-item {position: relative;z-index: 1;}#sk-container-id-2 div.sk-parallel {display: flex;align-items: stretch;justify-content: center;background-color: white;position: relative;}#sk-container-id-2 div.sk-item::before, #sk-container-id-2 div.sk-parallel-item::before {content: \"\";position: absolute;border-left: 1px solid gray;box-sizing: border-box;top: 0;bottom: 0;left: 50%;z-index: -1;}#sk-container-id-2 div.sk-parallel-item {display: flex;flex-direction: column;z-index: 1;position: relative;background-color: white;}#sk-container-id-2 div.sk-parallel-item:first-child::after {align-self: flex-end;width: 50%;}#sk-container-id-2 div.sk-parallel-item:last-child::after {align-self: flex-start;width: 50%;}#sk-container-id-2 div.sk-parallel-item:only-child::after {width: 0;}#sk-container-id-2 div.sk-dashed-wrapped {border: 1px dashed gray;margin: 0 0.4em 0.5em 0.4em;box-sizing: border-box;padding-bottom: 0.4em;background-color: white;}#sk-container-id-2 div.sk-label label {font-family: monospace;font-weight: bold;display: inline-block;line-height: 1.2em;}#sk-container-id-2 div.sk-label-container {text-align: center;}#sk-container-id-2 div.sk-container {/* jupyter's `normalize.less` sets `[hidden] { display: none; }` but bootstrap.min.css set `[hidden] { display: none !important; }` so we also need the `!important` here to be able to override the default hidden behavior on the sphinx rendered scikit-learn.org. See: https://github.com/scikit-learn/scikit-learn/issues/21755 */display: inline-block !important;position: relative;}#sk-container-id-2 div.sk-text-repr-fallback {display: none;}</style><div id=\"sk-container-id-2\" class=\"sk-top-container\"><div class=\"sk-text-repr-fallback\"><pre>DecisionTreeClassifier(random_state=42)</pre><b>In a Jupyter environment, please rerun this cell to show the HTML representation or trust the notebook. <br />On GitHub, the HTML representation is unable to render, please try loading this page with nbviewer.org.</b></div><div class=\"sk-container\" hidden><div class=\"sk-item\"><div class=\"sk-estimator sk-toggleable\"><input class=\"sk-toggleable__control sk-hidden--visually\" id=\"sk-estimator-id-2\" type=\"checkbox\" checked><label for=\"sk-estimator-id-2\" class=\"sk-toggleable__label sk-toggleable__label-arrow\">DecisionTreeClassifier</label><div class=\"sk-toggleable__content\"><pre>DecisionTreeClassifier(random_state=42)</pre></div></div></div></div></div>"
      ],
      "text/plain": [
       "DecisionTreeClassifier(random_state=42)"
      ]
     },
     "execution_count": 30,
     "metadata": {},
     "output_type": "execute_result"
    }
   ],
   "source": [
    "Dtree.fit(X_train,y_train)"
   ]
  },
  {
   "cell_type": "code",
   "execution_count": 31,
   "metadata": {},
   "outputs": [
    {
     "data": {
      "text/plain": [
       "0.6634689156750312"
      ]
     },
     "execution_count": 31,
     "metadata": {},
     "output_type": "execute_result"
    }
   ],
   "source": [
    "cross_val_score(Dtree,X,y,cv=skf,scoring='roc_auc').mean()"
   ]
  },
  {
   "cell_type": "code",
   "execution_count": 32,
   "metadata": {},
   "outputs": [
    {
     "data": {
      "text/plain": [
       "0.6539772429342982"
      ]
     },
     "execution_count": 32,
     "metadata": {},
     "output_type": "execute_result"
    }
   ],
   "source": [
    "# accuracy on the test set\n",
    "Dtree_pred = Dtree.predict(X_test)\n",
    "roc_auc_score(y_valid,Dtree_pred)"
   ]
  },
  {
   "cell_type": "markdown",
   "metadata": {},
   "source": [
    "No tuning on hyperparameter! Score 66! Also no overfitting! Good sign!"
   ]
  },
  {
   "cell_type": "markdown",
   "metadata": {},
   "source": [
    "***Important Note:***:\n",
    "- I have tested on the nonscaled dataset too. The test set accuracy was 64. And with scaled its 65! Thus overfitting is slightly reduced using Scaled Features!"
   ]
  }
 ],
 "metadata": {
  "kernelspec": {
   "display_name": "Python 3.10.4 ('ML')",
   "language": "python",
   "name": "python3"
  },
  "language_info": {
   "codemirror_mode": {
    "name": "ipython",
    "version": 3
   },
   "file_extension": ".py",
   "mimetype": "text/x-python",
   "name": "python",
   "nbconvert_exporter": "python",
   "pygments_lexer": "ipython3",
   "version": "3.10.4"
  },
  "orig_nbformat": 4,
  "vscode": {
   "interpreter": {
    "hash": "8809126b2e3f6bd67afd8dec0aaf136102c3339cf179547b748c69a78a732e29"
   }
  }
 },
 "nbformat": 4,
 "nbformat_minor": 2
}
